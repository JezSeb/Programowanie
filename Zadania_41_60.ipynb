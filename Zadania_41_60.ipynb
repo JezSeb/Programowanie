{
  "nbformat": 4,
  "nbformat_minor": 0,
  "metadata": {
    "colab": {
      "provenance": [],
      "authorship_tag": "ABX9TyOJKP+vS0uwXX9qyamvXofd",
      "include_colab_link": true
    },
    "kernelspec": {
      "name": "python3",
      "display_name": "Python 3"
    },
    "language_info": {
      "name": "python"
    }
  },
  "cells": [
    {
      "cell_type": "markdown",
      "metadata": {
        "id": "view-in-github",
        "colab_type": "text"
      },
      "source": [
        "<a href=\"https://colab.research.google.com/github/JezSeb/Programowanie/blob/main/Zadania_41_60.ipynb\" target=\"_parent\"><img src=\"https://colab.research.google.com/assets/colab-badge.svg\" alt=\"Open In Colab\"/></a>"
      ]
    },
    {
      "cell_type": "code",
      "execution_count": 2,
      "metadata": {
        "colab": {
          "base_uri": "https://localhost:8080/"
        },
        "id": "BV0XcUgV70ma",
        "outputId": "ae570042-f424-4d38-94a8-f74786d4a213"
      },
      "outputs": [
        {
          "output_type": "stream",
          "name": "stdout",
          "text": [
            "{'a': 1, 'c': 2, 'b': 3}\n",
            "{'b': 3, 'c': 2, 'a': 1}\n"
          ]
        }
      ],
      "source": [
        "def sort_ascending(d):\n",
        "    return dict(sorted(d.items(), key=lambda item: item[1]))\n",
        "\n",
        "\n",
        "def sort_descending(d):\n",
        "    return dict(sorted(d.items(), key=lambda item: item[1], reverse=True))\n",
        "\n",
        "\n",
        "sample_dict = {'b': 3, 'a': 1, 'c': 2}\n",
        "print(sort_ascending(sample_dict))\n",
        "print(sort_descending(sample_dict))\n"
      ]
    },
    {
      "cell_type": "code",
      "source": [
        "def add(d, key, value):\n",
        "    d[key] = value\n",
        "    return d\n",
        "\n",
        "sample_dict = {0: 10, 1: 20}\n",
        "print(sample_dict)\n",
        "print(add(sample_dict, 2, 30))\n"
      ],
      "metadata": {
        "colab": {
          "base_uri": "https://localhost:8080/"
        },
        "id": "HypcvoQx8k3A",
        "outputId": "da7ada67-7f01-4310-c544-c98d15321836"
      },
      "execution_count": 3,
      "outputs": [
        {
          "output_type": "stream",
          "name": "stdout",
          "text": [
            "{0: 10, 1: 20}\n",
            "{0: 10, 1: 20, 2: 30}\n"
          ]
        }
      ]
    },
    {
      "cell_type": "code",
      "source": [
        "def concatenate(*dicts):\n",
        "    result = {}\n",
        "    for d in dicts:\n",
        "        result.update(d)\n",
        "    return result\n",
        "\n",
        "dic1 = {1:10, 2:20}\n",
        "dic2 = {3:30, 4:40}\n",
        "dic3 = {5:50, 6:60}\n",
        "print(concatenate(dic1, dic2, dic3))\n"
      ],
      "metadata": {
        "colab": {
          "base_uri": "https://localhost:8080/"
        },
        "id": "4UFugSN98-Ka",
        "outputId": "4e9e7633-cc82-4fb2-a726-09fa82b27678"
      },
      "execution_count": 4,
      "outputs": [
        {
          "output_type": "stream",
          "name": "stdout",
          "text": [
            "{1: 10, 2: 20, 3: 30, 4: 40, 5: 50, 6: 60}\n"
          ]
        }
      ]
    },
    {
      "cell_type": "code",
      "source": [
        "def key_exists(d, key):\n",
        "    return key in d\n",
        "\n",
        "sample_dict = {'a': 1, 'b': 2, 'c': 3}\n",
        "key = 'a'\n",
        "print(key_exists(sample_dict, key))\n"
      ],
      "metadata": {
        "colab": {
          "base_uri": "https://localhost:8080/"
        },
        "id": "aSm8OYmC9KpS",
        "outputId": "7fd9496b-ee78-4cd5-df72-e2f258163122"
      },
      "execution_count": 13,
      "outputs": [
        {
          "output_type": "stream",
          "name": "stdout",
          "text": [
            "True\n"
          ]
        }
      ]
    },
    {
      "cell_type": "code",
      "source": [
        "sample_dict = {'a': 1, 'b': 2, 'c': 3}\n",
        "for key, value in sample_dict.items():\n",
        "    print(f\"Key: {key}, Value: {value}\")\n"
      ],
      "metadata": {
        "colab": {
          "base_uri": "https://localhost:8080/"
        },
        "id": "sR7IJpuK9rgA",
        "outputId": "70919644-8d72-4b28-a82a-9727163fbdae"
      },
      "execution_count": 28,
      "outputs": [
        {
          "output_type": "stream",
          "name": "stdout",
          "text": [
            "Key: a, Value: 1\n",
            "Key: b, Value: 2\n",
            "Key: c, Value: 3\n"
          ]
        }
      ]
    },
    {
      "cell_type": "code",
      "source": [
        "def squares_dict(n):\n",
        "    result = {}\n",
        "    for i in range(1, n + 1):\n",
        "        result[i] = i * i\n",
        "    return result\n",
        "\n",
        "n = 5\n",
        "print(squares_dict(n))\n"
      ],
      "metadata": {
        "colab": {
          "base_uri": "https://localhost:8080/"
        },
        "id": "NNH2Ijam9vvK",
        "outputId": "4fbfc094-3e60-402f-f4ad-f0f332a13062"
      },
      "execution_count": 25,
      "outputs": [
        {
          "output_type": "stream",
          "name": "stdout",
          "text": [
            "{1: 1, 2: 4, 3: 9, 4: 16, 5: 25}\n"
          ]
        }
      ]
    },
    {
      "cell_type": "code",
      "source": [
        "def squares_dict(n):\n",
        "    result = {}\n",
        "    for i in range(1, n + 1):\n",
        "        result[i] = i * i\n",
        "    return result\n",
        "\n",
        "n = 15\n",
        "print(\"Dictionary:\", squares_dict(n))\n"
      ],
      "metadata": {
        "colab": {
          "base_uri": "https://localhost:8080/"
        },
        "id": "wEiRc3wb9x2u",
        "outputId": "726ece15-2f07-4611-95ba-9ef696c9aefa"
      },
      "execution_count": 26,
      "outputs": [
        {
          "output_type": "stream",
          "name": "stdout",
          "text": [
            "Dictionary: {1: 1, 2: 4, 3: 9, 4: 16, 5: 25, 6: 36, 7: 49, 8: 64, 9: 81, 10: 100, 11: 121, 12: 144, 13: 169, 14: 196, 15: 225}\n"
          ]
        }
      ]
    },
    {
      "cell_type": "code",
      "source": [
        "def merge_dicts(d1, d2):\n",
        "    result = d1.copy()\n",
        "    result.update(d2)\n",
        "    return result\n",
        "\n",
        "d1 = {'a': 100, 'b': 200, 'c': 300}\n",
        "d2 = {'a': 300, 'b': 200, 'd': 400}\n",
        "print(merge_dicts(d1, d2))\n"
      ],
      "metadata": {
        "colab": {
          "base_uri": "https://localhost:8080/"
        },
        "id": "ChAGkOO19x-T",
        "outputId": "6b26fc0b-916e-4f10-f013-c1ad1159fb53"
      },
      "execution_count": 27,
      "outputs": [
        {
          "output_type": "stream",
          "name": "stdout",
          "text": [
            "{'a': 300, 'b': 200, 'c': 300, 'd': 400}\n"
          ]
        }
      ]
    },
    {
      "cell_type": "code",
      "source": [
        "sample_dict = {'a': 1, 'b': 2, 'c': 3}\n",
        "for key, value in sample_dict.items():\n",
        "    print(f\"Key: {key}, Value: {value}\")\n"
      ],
      "metadata": {
        "colab": {
          "base_uri": "https://localhost:8080/"
        },
        "id": "Und8c7yC9yGV",
        "outputId": "6f9a9efe-893e-4fe1-c327-dab3153fcfbd"
      },
      "execution_count": 29,
      "outputs": [
        {
          "output_type": "stream",
          "name": "stdout",
          "text": [
            "Key: a, Value: 1\n",
            "Key: b, Value: 2\n",
            "Key: c, Value: 3\n"
          ]
        }
      ]
    },
    {
      "cell_type": "code",
      "source": [
        "def sum_dict_values(d):\n",
        "    return sum(d.values())\n",
        "\n",
        "sample_dict = {'a': 1, 'b': 2, 'c': 3}\n",
        "print(\"Sum of all items:\", sum_dict_values(sample_dict))\n"
      ],
      "metadata": {
        "id": "DLdyiRhA9yNH"
      },
      "execution_count": null,
      "outputs": []
    },
    {
      "cell_type": "code",
      "source": [
        "def multiply_dict_values(d):\n",
        "    result = 1\n",
        "    for value in d.values():\n",
        "        result *= value\n",
        "    return result\n",
        "\n",
        "sample_dict = {'a': 1, 'b': 2, 'c': 3}\n",
        "print(multiply_dict_values(sample_dict))\n"
      ],
      "metadata": {
        "colab": {
          "base_uri": "https://localhost:8080/"
        },
        "id": "2k8eYyQI9yUL",
        "outputId": "346c1294-4390-4bfb-cb80-370b0eaf0eb4"
      },
      "execution_count": 31,
      "outputs": [
        {
          "output_type": "stream",
          "name": "stdout",
          "text": [
            "6\n"
          ]
        }
      ]
    },
    {
      "cell_type": "code",
      "source": [
        "def remove_key_from_dict(d, key):\n",
        "    if key in d:\n",
        "        del d[key]\n",
        "    return d\n",
        "\n",
        "sample_dict = {'a': 1, 'b': 2, 'c': 3}\n",
        "key_to_remove = 'b'\n",
        "print(\"After removing:\", remove_key_from_dict(sample_dict, key_to_remove))\n"
      ],
      "metadata": {
        "colab": {
          "base_uri": "https://localhost:8080/"
        },
        "id": "uzS07GjT9yb9",
        "outputId": "46144204-f71e-4696-bd29-81527202b67e"
      },
      "execution_count": 33,
      "outputs": [
        {
          "output_type": "stream",
          "name": "stdout",
          "text": [
            "After removing: {'a': 1, 'c': 3}\n"
          ]
        }
      ]
    },
    {
      "cell_type": "code",
      "source": [
        "def lists_to_dict(keys, values):\n",
        "    return dict(zip(keys, values))\n",
        "\n",
        "keys = ['a', 'b', 'c']\n",
        "values = [1, 2, 3]\n",
        "print(\"Mapped:\", lists_to_dict(keys, values))\n"
      ],
      "metadata": {
        "colab": {
          "base_uri": "https://localhost:8080/"
        },
        "id": "c9RI5lNF9yjU",
        "outputId": "7ec478cb-0e4d-46a0-96d0-22d1a200a8c2"
      },
      "execution_count": 32,
      "outputs": [
        {
          "output_type": "stream",
          "name": "stdout",
          "text": [
            "Mapped: {'a': 1, 'b': 2, 'c': 3}\n"
          ]
        }
      ]
    },
    {
      "cell_type": "code",
      "source": [
        "def sort_by_key(d):\n",
        "    return dict(sorted(d.items()))\n",
        "\n",
        "sample_dict = {'b': 3, 'a': 1, 'c': 2}\n",
        "print(\"Sorted by key:\", sort_dict_by_key(sample_dict))\n"
      ],
      "metadata": {
        "colab": {
          "base_uri": "https://localhost:8080/"
        },
        "id": "p-9s3XRa9yqH",
        "outputId": "65e70dba-efca-4b60-ec3a-c597eb37c7db"
      },
      "execution_count": 36,
      "outputs": [
        {
          "output_type": "stream",
          "name": "stdout",
          "text": [
            "Sorted by key: {'a': 1, 'b': 3, 'c': 2}\n"
          ]
        }
      ]
    },
    {
      "cell_type": "code",
      "source": [
        "def max_min(d):\n",
        "    return max(d.values()), min(d.values())\n",
        "\n",
        "sample_dict = {'a': 1, 'b': 2, 'c': 3}\n",
        "print(\"Max and min:\", max_min(sample_dict))\n"
      ],
      "metadata": {
        "colab": {
          "base_uri": "https://localhost:8080/"
        },
        "id": "BILvoecp9yxn",
        "outputId": "5a36ff95-249a-4c56-a840-6950e9c2d603"
      },
      "execution_count": 38,
      "outputs": [
        {
          "output_type": "stream",
          "name": "stdout",
          "text": [
            "Max and min: (3, 1)\n"
          ]
        }
      ]
    },
    {
      "cell_type": "code",
      "source": [
        "class MyClass:\n",
        "    def __init__(self):\n",
        "        self.a = 1\n",
        "        self.b = 2\n",
        "        self.c = 3\n",
        "\n",
        "def object_to_dict(obj):\n",
        "    return obj.__dict__\n",
        "\n",
        "obj = MyClass()\n",
        "print(object_to_dict(obj))\n"
      ],
      "metadata": {
        "colab": {
          "base_uri": "https://localhost:8080/"
        },
        "id": "NalUToRL9y5M",
        "outputId": "74f24fd6-15a7-45ec-9fc6-aab2bb08429b"
      },
      "execution_count": 40,
      "outputs": [
        {
          "output_type": "stream",
          "name": "stdout",
          "text": [
            "{'a': 1, 'b': 2, 'c': 3}\n"
          ]
        }
      ]
    },
    {
      "cell_type": "code",
      "source": [
        "\n",
        "def remove_duplicate_dicts(lst):\n",
        "    unique_dicts = []\n",
        "    seen = set()\n",
        "    for d in lst:\n",
        "        d_tuple = tuple(sorted((k, tuple(v)) for k, v in d.items()))\n",
        "        if d_tuple not in seen:\n",
        "            unique_dicts.append(d)\n",
        "            seen.add(d_tuple)\n",
        "    return unique_dicts\n",
        "\n",
        "sample_data = [\n",
        "    {'id1': {'name': ['Sara'], 'class': ['V'], 'subject_integration': ['english, math, science']}},\n",
        "    {'id2': {'name': ['David'], 'class': ['V'], 'subject_integration': ['english, math, science']}},\n",
        "    {'id4': {'name': ['Surya'], 'class': ['V'], 'subject_integration': ['english, math, science']}},\n",
        "    {'id1': {'name': ['Sara'], 'class': ['V'], 'subject_integration': ['english, math, science']}}\n",
        "]\n",
        "\n",
        "print(remove_duplicate_dicts(sample_data))\n"
      ],
      "metadata": {
        "colab": {
          "base_uri": "https://localhost:8080/"
        },
        "id": "IU7z4wk39zAi",
        "outputId": "c2b63f07-67c8-4348-9968-b1b7156c4a82"
      },
      "execution_count": 45,
      "outputs": [
        {
          "output_type": "stream",
          "name": "stdout",
          "text": [
            "[{'id1': {'name': ['Sara'], 'class': ['V'], 'subject_integration': ['english, math, science']}}, {'id2': {'name': ['David'], 'class': ['V'], 'subject_integration': ['english, math, science']}}, {'id4': {'name': ['Surya'], 'class': ['V'], 'subject_integration': ['english, math, science']}}]\n"
          ]
        }
      ]
    },
    {
      "cell_type": "code",
      "source": [
        "my_dict = {}\n",
        "\n",
        "if not bool(my_dict):\n",
        "    print(\"Dictionary is empty\")\n",
        "else:\n",
        "  print(\"The dictionary is not empty\")"
      ],
      "metadata": {
        "colab": {
          "base_uri": "https://localhost:8080/"
        },
        "id": "EQUr01Rk9zHr",
        "outputId": "ab8a56c1-efe1-4774-95ec-b93b5c3cf305"
      },
      "execution_count": 55,
      "outputs": [
        {
          "output_type": "stream",
          "name": "stdout",
          "text": [
            "Dictionary is empty\n"
          ]
        }
      ]
    },
    {
      "cell_type": "code",
      "source": [
        "from collections import Counter\n",
        "\n",
        "def combine_dicts(d1, d2):\n",
        "    return Counter(d1) + Counter(d2)\n",
        "\n",
        "d1 = {'a': 100, 'b': 200, 'c': 300}\n",
        "d2 = {'a': 300, 'b': 200, 'd': 400}\n",
        "print(combine_dicts(d1, d2))\n"
      ],
      "metadata": {
        "colab": {
          "base_uri": "https://localhost:8080/"
        },
        "id": "ZfHb2L9l9zPM",
        "outputId": "e9c06ead-03b4-4313-f448-c336836f425e"
      },
      "execution_count": 58,
      "outputs": [
        {
          "output_type": "stream",
          "name": "stdout",
          "text": [
            "Counter({'a': 400, 'b': 400, 'd': 400, 'c': 300})\n"
          ]
        }
      ]
    },
    {
      "cell_type": "code",
      "source": [
        "def unique_values(lst):\n",
        "    values = set()\n",
        "    for d in lst:\n",
        "        for value in d.values():\n",
        "            values.add(value)\n",
        "    return values\n",
        "\n",
        "sample_data = [{\"V\":\"S001\"}, {\"V\": \"S002\"}, {\"VI\": \"S001\"}, {\"VI\": \"S005\"}, {\"VII\":\"S005\"}, {\"V\":\"S009\"},{\"VIII\":\"S007\"}]\n",
        "print(\"Unique Values:\", unique_values(sample_data))\n"
      ],
      "metadata": {
        "colab": {
          "base_uri": "https://localhost:8080/"
        },
        "id": "C-NTBEOc9zWE",
        "outputId": "e30884ec-b6ff-43a1-d840-09ed42bd67dc"
      },
      "execution_count": 59,
      "outputs": [
        {
          "output_type": "stream",
          "name": "stdout",
          "text": [
            "Unique Values: {'S002', 'S001', 'S009', 'S005', 'S007'}\n"
          ]
        }
      ]
    }
  ]
}