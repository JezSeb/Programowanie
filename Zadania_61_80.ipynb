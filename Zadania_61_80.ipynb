{
  "nbformat": 4,
  "nbformat_minor": 0,
  "metadata": {
    "colab": {
      "provenance": [],
      "authorship_tag": "ABX9TyPDPCJ+/vfIwsxOuGYX7nqp",
      "include_colab_link": true
    },
    "kernelspec": {
      "name": "python3",
      "display_name": "Python 3"
    },
    "language_info": {
      "name": "python"
    }
  },
  "cells": [
    {
      "cell_type": "markdown",
      "metadata": {
        "id": "view-in-github",
        "colab_type": "text"
      },
      "source": [
        "<a href=\"https://colab.research.google.com/github/JezSeb/Programowanie/blob/main/Zadania_61_80.ipynb\" target=\"_parent\"><img src=\"https://colab.research.google.com/assets/colab-badge.svg\" alt=\"Open In Colab\"/></a>"
      ]
    },
    {
      "cell_type": "code",
      "execution_count": 42,
      "metadata": {
        "colab": {
          "base_uri": "https://localhost:8080/"
        },
        "id": "ezGnw8JTFZM9",
        "outputId": "f760ca1c-5eb7-4382-d064-5fe1bffabd2a"
      },
      "outputs": [
        {
          "output_type": "stream",
          "name": "stdout",
          "text": [
            "[1505, 1540, 1575, 1610, 1645, 1680, 1715, 1750, 1785, 1820, 1855, 1890, 1925, 1960, 1995, 2030, 2065, 2100, 2135, 2170, 2205, 2240, 2275, 2310, 2345, 2380, 2415, 2450, 2485, 2520, 2555, 2590, 2625, 2660, 2695]\n"
          ]
        }
      ],
      "source": [
        "result = [num for num in range(1500, 2701) if num % 7 == 0 and num % 5 == 0]\n",
        "print(result)"
      ]
    },
    {
      "cell_type": "code",
      "source": [
        "def celsius_to_fahrenheit(celsius):\n",
        "    return celsius * 9/5 + 32\n",
        "\n",
        "def fahrenheit_to_celsius(fahrenheit):\n",
        "    return (fahrenheit - 32) * 5/9\n",
        "\n",
        "temp_celsius = 60\n",
        "temp_fahrenheit = 45\n",
        "\n",
        "print(f\"{temp_celsius}°C is {celsius_to_fahrenheit(temp_celsius)} in Fahrenheit\")\n",
        "print(f\"{temp_fahrenheit}°F is {fahrenheit_to_celsius(temp_fahrenheit)} in Celsius\")\n"
      ],
      "metadata": {
        "colab": {
          "base_uri": "https://localhost:8080/"
        },
        "id": "A6vHI-A0FaBR",
        "outputId": "0c9b628a-324d-40df-913f-5c6895396947"
      },
      "execution_count": 3,
      "outputs": [
        {
          "output_type": "stream",
          "name": "stdout",
          "text": [
            "60°C is 140.0 in Fahrenheit\n",
            "45°F is 7.222222222222222 in Celsius\n"
          ]
        }
      ]
    },
    {
      "cell_type": "code",
      "source": [
        "import random\n",
        "\n",
        "target = random.randint(1, 9)\n",
        "\n",
        "while True:\n",
        "    guess = int(input(\"Guess a number between 1 and 9: \"))\n",
        "    if guess == target:\n",
        "        print(\"Well guessed!\")\n",
        "        break\n",
        "    else:\n",
        "        print(\"Try again!\")\n"
      ],
      "metadata": {
        "colab": {
          "base_uri": "https://localhost:8080/"
        },
        "id": "pArGBmRtFaFR",
        "outputId": "005d0383-a61b-4574-e34a-6315de47c1a7"
      },
      "execution_count": 4,
      "outputs": [
        {
          "output_type": "stream",
          "name": "stdout",
          "text": [
            "Guess a number between 1 and 9: 3\n",
            "Try again!\n",
            "Guess a number between 1 and 9: 4\n",
            "Try again!\n",
            "Guess a number between 1 and 9: 5\n",
            "Try again!\n",
            "Guess a number between 1 and 9: 7\n",
            "Well guessed!\n"
          ]
        }
      ]
    },
    {
      "cell_type": "code",
      "source": [
        "for i in range(6):\n",
        "    print(\"* \" * i)\n",
        "for i in range(4, 0, -1):\n",
        "    print(\"* \" * i)\n"
      ],
      "metadata": {
        "colab": {
          "base_uri": "https://localhost:8080/"
        },
        "id": "K7I5SAZuFaIW",
        "outputId": "562b0f3a-2b2e-4a88-cb9e-6359907106ae"
      },
      "execution_count": 5,
      "outputs": [
        {
          "output_type": "stream",
          "name": "stdout",
          "text": [
            "\n",
            "* \n",
            "* * \n",
            "* * * \n",
            "* * * * \n",
            "* * * * * \n",
            "* * * * \n",
            "* * * \n",
            "* * \n",
            "* \n"
          ]
        }
      ]
    },
    {
      "cell_type": "code",
      "source": [
        "word = input(\"Enter a word: \")\n",
        "print(word[::-1])\n"
      ],
      "metadata": {
        "colab": {
          "base_uri": "https://localhost:8080/"
        },
        "id": "i_HewLS0FaLv",
        "outputId": "4c7e36e8-2268-4936-f051-0bfcc7a9bb59"
      },
      "execution_count": 6,
      "outputs": [
        {
          "output_type": "stream",
          "name": "stdout",
          "text": [
            "Enter a word: word\n",
            "drow\n"
          ]
        }
      ]
    },
    {
      "cell_type": "code",
      "source": [
        "numbers = (1, 2, 3, 4, 5, 6, 7, 8, 9)\n",
        "even_count = sum(1 for num in numbers if num % 2 == 0)\n",
        "odd_count = len(numbers) - even_count\n",
        "\n",
        "print(f\"Number of even numbers: {even_count}\")\n",
        "print(f\"Number of odd numbers: {odd_count}\")\n"
      ],
      "metadata": {
        "colab": {
          "base_uri": "https://localhost:8080/"
        },
        "id": "1wQ5AD4iFaQG",
        "outputId": "48f954da-bc40-42a2-ed26-13d87633ac4d"
      },
      "execution_count": 8,
      "outputs": [
        {
          "output_type": "stream",
          "name": "stdout",
          "text": [
            "Number of even numbers: 4\n",
            "Number of odd numbers: 5\n"
          ]
        }
      ]
    },
    {
      "cell_type": "code",
      "source": [
        "datalist = [1452, 11.23, 1+2j, True, 'w3resource', (0, -1), [5, 12], {\"class\":'V', \"section\":'A'}]\n",
        "\n",
        "for item in datalist:\n",
        "    print(f\"{item} is of type {type(item)}\")\n"
      ],
      "metadata": {
        "colab": {
          "base_uri": "https://localhost:8080/"
        },
        "id": "8ed2q6rGFaTw",
        "outputId": "96e60e17-01b3-479c-eab7-54a151464496"
      },
      "execution_count": 9,
      "outputs": [
        {
          "output_type": "stream",
          "name": "stdout",
          "text": [
            "1452 is of type <class 'int'>\n",
            "11.23 is of type <class 'float'>\n",
            "(1+2j) is of type <class 'complex'>\n",
            "True is of type <class 'bool'>\n",
            "w3resource is of type <class 'str'>\n",
            "(0, -1) is of type <class 'tuple'>\n",
            "[5, 12] is of type <class 'list'>\n",
            "{'class': 'V', 'section': 'A'} is of type <class 'dict'>\n"
          ]
        }
      ]
    },
    {
      "cell_type": "code",
      "source": [
        "for i in range(7):\n",
        "    if i == 3 or i == 6:\n",
        "        continue\n",
        "    print(i, end=' ')\n"
      ],
      "metadata": {
        "colab": {
          "base_uri": "https://localhost:8080/"
        },
        "id": "Y1q2uwvjFaXw",
        "outputId": "8b95117c-6318-4151-eb4f-8c7ac03355b7"
      },
      "execution_count": 10,
      "outputs": [
        {
          "output_type": "stream",
          "name": "stdout",
          "text": [
            "0 1 2 4 5 "
          ]
        }
      ]
    },
    {
      "cell_type": "code",
      "source": [
        "a, b = 0, 1\n",
        "while a <= 50:\n",
        "    print(a, end=' ')\n",
        "    a, b = b, a + b\n"
      ],
      "metadata": {
        "colab": {
          "base_uri": "https://localhost:8080/"
        },
        "id": "VJGb2MpWFabG",
        "outputId": "8bfbec19-5ec4-4667-8550-d59136fe1224"
      },
      "execution_count": 11,
      "outputs": [
        {
          "output_type": "stream",
          "name": "stdout",
          "text": [
            "0 1 1 2 3 5 8 13 21 34 "
          ]
        }
      ]
    },
    {
      "cell_type": "code",
      "source": [
        "for i in range(1, 51):\n",
        "    if i % 3 == 0 and i % 5 == 0:\n",
        "        print(\"FizzBuzz\")\n",
        "    elif i % 3 == 0:\n",
        "        print(\"Fizz\")\n",
        "    elif i % 5 == 0:\n",
        "        print(\"Buzz\")\n",
        "    else:\n",
        "        print(i)\n"
      ],
      "metadata": {
        "colab": {
          "base_uri": "https://localhost:8080/"
        },
        "id": "dTNwBlj1Faew",
        "outputId": "42a43f26-4c10-470b-bbb3-8436fda89746"
      },
      "execution_count": 12,
      "outputs": [
        {
          "output_type": "stream",
          "name": "stdout",
          "text": [
            "1\n",
            "2\n",
            "Fizz\n",
            "4\n",
            "Buzz\n",
            "Fizz\n",
            "7\n",
            "8\n",
            "Fizz\n",
            "Buzz\n",
            "11\n",
            "Fizz\n",
            "13\n",
            "14\n",
            "FizzBuzz\n",
            "16\n",
            "17\n",
            "Fizz\n",
            "19\n",
            "Buzz\n",
            "Fizz\n",
            "22\n",
            "23\n",
            "Fizz\n",
            "Buzz\n",
            "26\n",
            "Fizz\n",
            "28\n",
            "29\n",
            "FizzBuzz\n",
            "31\n",
            "32\n",
            "Fizz\n",
            "34\n",
            "Buzz\n",
            "Fizz\n",
            "37\n",
            "38\n",
            "Fizz\n",
            "Buzz\n",
            "41\n",
            "Fizz\n",
            "43\n",
            "44\n",
            "FizzBuzz\n",
            "46\n",
            "47\n",
            "Fizz\n",
            "49\n",
            "Buzz\n"
          ]
        }
      ]
    },
    {
      "cell_type": "code",
      "source": [
        "rows = int(input(\"Enter the number of rows: \"))\n",
        "cols = int(input(\"Enter the number of columns: \"))\n",
        "\n",
        "result = [[i * j for j in range(cols)] for i in range(rows)]\n",
        "print(result)\n"
      ],
      "metadata": {
        "colab": {
          "base_uri": "https://localhost:8080/"
        },
        "id": "-NEZh1qUFaiV",
        "outputId": "92edcea4-96c4-4b87-d088-2cbaa1a30c6b"
      },
      "execution_count": 13,
      "outputs": [
        {
          "output_type": "stream",
          "name": "stdout",
          "text": [
            "Enter the number of rows: 3\n",
            "Enter the number of columns: 2\n",
            "[[0, 0], [0, 1], [0, 2]]\n"
          ]
        }
      ]
    },
    {
      "cell_type": "code",
      "source": [
        "lines = []\n",
        "while True:\n",
        "    line = input(\"Enter a line (blank line to terminate): \")\n",
        "    if not line:\n",
        "        break\n",
        "    lines.append(line.upper())\n",
        "\n",
        "for line in lines:\n",
        "    print(line)\n"
      ],
      "metadata": {
        "colab": {
          "base_uri": "https://localhost:8080/"
        },
        "id": "kTiw381sFamo",
        "outputId": "8e441cc9-0f6a-462e-d232-5313de53ac8b"
      },
      "execution_count": 41,
      "outputs": [
        {
          "output_type": "stream",
          "name": "stdout",
          "text": [
            "Enter a line (blank line to terminate): word\n",
            "Enter a line (blank line to terminate): to\n",
            "Enter a line (blank line to terminate): change\n",
            "Enter a line (blank line to terminate): \n",
            "WORD\n",
            "TO\n",
            "CHANGE\n"
          ]
        }
      ]
    },
    {
      "cell_type": "code",
      "source": [
        "binary_numbers = input(\"Enter comma-separated 4-digit binary numbers: \").split(',')\n",
        "result = [num for num in binary_numbers if int(num, 2) % 5 == 0]\n",
        "print(','.join(result))\n"
      ],
      "metadata": {
        "colab": {
          "base_uri": "https://localhost:8080/"
        },
        "id": "ycA1gVj4FaqS",
        "outputId": "34986bb1-5b27-49ae-8256-d19f4fc1626c"
      },
      "execution_count": 36,
      "outputs": [
        {
          "output_type": "stream",
          "name": "stdout",
          "text": [
            "Enter comma-separated 4-digit binary numbers: 0100,0011,1010,1001,1100,1001\n",
            "1010\n"
          ]
        }
      ]
    },
    {
      "cell_type": "code",
      "source": [
        "text = input(\"Enter a string: \")\n",
        "letters = sum(c.isalpha() for c in text)\n",
        "digits = sum(c.isdigit() for c in text)\n",
        "print(f\"Letters: {letters}\")\n",
        "print(f\"Digits: {digits}\")\n"
      ],
      "metadata": {
        "colab": {
          "base_uri": "https://localhost:8080/"
        },
        "id": "-nMKacG4FauK",
        "outputId": "ccc7f754-b94c-4166-e5ff-9f2102acb09c"
      },
      "execution_count": 16,
      "outputs": [
        {
          "output_type": "stream",
          "name": "stdout",
          "text": [
            "Enter a string: word\n",
            "Letters: 4\n",
            "Digits: 0\n"
          ]
        }
      ]
    },
    {
      "cell_type": "code",
      "source": [
        "import re\n",
        "\n",
        "def is_valid_password(password):\n",
        "    if len(password) < 6 or len(password) > 16:\n",
        "        return False\n",
        "    if not re.search(\"[a-z]\", password):\n",
        "        return False\n",
        "    if not re.search(\"[A-Z]\", password):\n",
        "        return False\n",
        "    if not re.search(\"[0-9]\", password):\n",
        "        return False\n",
        "    if not re.search(\"[$#@]\", password):\n",
        "        return False\n",
        "    return True\n",
        "\n",
        "password = input(\"Enter a password: \")\n",
        "if is_valid_password(password):\n",
        "    print(\"Valid password\")\n",
        "else:\n",
        "    print(\"Invalid password\")\n"
      ],
      "metadata": {
        "colab": {
          "base_uri": "https://localhost:8080/"
        },
        "id": "wvIjZks5FayE",
        "outputId": "13cfe0ad-a509-4ff3-a616-5e5b74893432"
      },
      "execution_count": 17,
      "outputs": [
        {
          "output_type": "stream",
          "name": "stdout",
          "text": [
            "Enter a password: password\n",
            "Invalid password\n"
          ]
        }
      ]
    },
    {
      "cell_type": "code",
      "source": [
        "result = [str(num) for num in range(100, 401) if all(int(digit) % 2 == 0 for digit in str(num))]\n",
        "print(','.join(result))\n"
      ],
      "metadata": {
        "colab": {
          "base_uri": "https://localhost:8080/"
        },
        "id": "n0OgZi-JFa1o",
        "outputId": "074ff64b-8d7b-489b-f94f-c63346df814a"
      },
      "execution_count": 18,
      "outputs": [
        {
          "output_type": "stream",
          "name": "stdout",
          "text": [
            "200,202,204,206,208,220,222,224,226,228,240,242,244,246,248,260,262,264,266,268,280,282,284,286,288,400\n"
          ]
        }
      ]
    },
    {
      "cell_type": "code",
      "source": [
        "pattern = \"\"\n",
        "\n",
        "for row in range(7):\n",
        "    for col in range(7):\n",
        "        if (col == 1 or col == 5) or ((row == 0 or row == 3) and (col > 1 and col < 5)):\n",
        "            pattern += \"*\"\n",
        "        else:\n",
        "            pattern += \" \"\n",
        "    pattern += \"\\n\"\n",
        "\n",
        "print(pattern)\n"
      ],
      "metadata": {
        "colab": {
          "base_uri": "https://localhost:8080/"
        },
        "id": "f6U1rQPfFa5B",
        "outputId": "bfab8c30-6577-4968-b6ad-0f6a1f6db625"
      },
      "execution_count": 35,
      "outputs": [
        {
          "output_type": "stream",
          "name": "stdout",
          "text": [
            " ***** \n",
            " *   * \n",
            " *   * \n",
            " ***** \n",
            " *   * \n",
            " *   * \n",
            " *   * \n",
            "\n"
          ]
        }
      ]
    },
    {
      "cell_type": "code",
      "source": [
        "for i in range(7):\n",
        "    if i == 0 or i == 6:\n",
        "        print(\"**** \")\n",
        "    else:\n",
        "        print(\"*   *\")\n"
      ],
      "metadata": {
        "colab": {
          "base_uri": "https://localhost:8080/"
        },
        "id": "hIKPstVCFa8r",
        "outputId": "83559262-0333-4539-b359-dc1ac45b6ea6"
      },
      "execution_count": 20,
      "outputs": [
        {
          "output_type": "stream",
          "name": "stdout",
          "text": [
            "**** \n",
            "*   *\n",
            "*   *\n",
            "*   *\n",
            "*   *\n",
            "*   *\n",
            "**** \n"
          ]
        }
      ]
    },
    {
      "cell_type": "code",
      "source": [
        "for i in range(7):\n",
        "    if i == 0 or i == 3 or i == 6:\n",
        "        print(\"*****\")\n",
        "    else:\n",
        "        print(\"*\")\n"
      ],
      "metadata": {
        "colab": {
          "base_uri": "https://localhost:8080/"
        },
        "id": "E36BtfCTFbAG",
        "outputId": "eb8c2c21-245d-432f-f312-ed065c90fccc"
      },
      "execution_count": 21,
      "outputs": [
        {
          "output_type": "stream",
          "name": "stdout",
          "text": [
            "*****\n",
            "*\n",
            "*\n",
            "*****\n",
            "*\n",
            "*\n",
            "*****\n"
          ]
        }
      ]
    },
    {
      "cell_type": "code",
      "source": [
        "pattern = \"\"\n",
        "\n",
        "for row in range(7):\n",
        "    for col in range(7):\n",
        "        if (col == 1 and (row != 0 and row != 6)) or ((row == 0 or row == 6) and (col > 1 and col < 5)) or ((row == 3) and (col > 2 and col < 6)) or (col == 5 and (row != 0 and row != 2 and row != 6)):\n",
        "            pattern += \"*\"\n",
        "        else:\n",
        "            pattern += \" \"\n",
        "    pattern += \"\\n\"\n",
        "\n",
        "print(pattern)\n"
      ],
      "metadata": {
        "colab": {
          "base_uri": "https://localhost:8080/"
        },
        "id": "IHd_s4A_FbDd",
        "outputId": "2cd1fb49-ec40-4056-feaf-c0675e63b684"
      },
      "execution_count": 34,
      "outputs": [
        {
          "output_type": "stream",
          "name": "stdout",
          "text": [
            "  ***  \n",
            " *   * \n",
            " *     \n",
            " * *** \n",
            " *   * \n",
            " *   * \n",
            "  ***  \n",
            "\n"
          ]
        }
      ]
    }
  ]
}