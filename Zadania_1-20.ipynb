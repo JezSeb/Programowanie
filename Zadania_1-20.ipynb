{
  "nbformat": 4,
  "nbformat_minor": 0,
  "metadata": {
    "colab": {
      "provenance": [],
      "authorship_tag": "ABX9TyPhwyGdbWBR+YtMP8qZGgtv",
      "include_colab_link": true
    },
    "kernelspec": {
      "name": "python3",
      "display_name": "Python 3"
    },
    "language_info": {
      "name": "python"
    }
  },
  "cells": [
    {
      "cell_type": "markdown",
      "metadata": {
        "id": "view-in-github",
        "colab_type": "text"
      },
      "source": [
        "<a href=\"https://colab.research.google.com/github/JezSeb/Programowanie/blob/main/Zadania_1-20.ipynb\" target=\"_parent\"><img src=\"https://colab.research.google.com/assets/colab-badge.svg\" alt=\"Open In Colab\"/></a>"
      ]
    },
    {
      "cell_type": "code",
      "execution_count": null,
      "metadata": {
        "id": "eGJy5xp45MA3",
        "colab": {
          "base_uri": "https://localhost:8080/"
        },
        "outputId": "45b99706-ccc2-4c18-94c9-b3064f8be667"
      },
      "outputs": [
        {
          "output_type": "stream",
          "name": "stdout",
          "text": [
            "Length of the string: 6\n"
          ]
        }
      ],
      "source": [
        "def string_length(string):\n",
        "    return len(string)\n",
        "\n",
        "sample_string = \"Merito\"\n",
        "print(\"Length of the string:\", string_length(sample_string))"
      ]
    },
    {
      "cell_type": "code",
      "source": [
        "def character_frequency(string):\n",
        "    freq = {}\n",
        "    for char in string:\n",
        "        freq[char] = freq.get(char, 0) + 1\n",
        "    return freq\n",
        "\n",
        "sample_string = \"Warszawa\"\n",
        "print(\"Character frequencies:\", character_frequency(sample_string))"
      ],
      "metadata": {
        "colab": {
          "base_uri": "https://localhost:8080/"
        },
        "id": "pZOS3DiFW__H",
        "outputId": "575c6088-673b-4839-9fba-4e0229f3738a"
      },
      "execution_count": null,
      "outputs": [
        {
          "output_type": "stream",
          "name": "stdout",
          "text": [
            "Character frequencies: {'W': 1, 'a': 3, 'r': 1, 's': 1, 'z': 1, 'w': 1}\n"
          ]
        }
      ]
    },
    {
      "cell_type": "code",
      "source": [
        "def get_first_and_last_two(string):\n",
        "    if len(string) < 2:\n",
        "        return \"\"\n",
        "    else:\n",
        "        return string[:2] + string[-2:]\n",
        "\n",
        "sample_string = \"Nothing\"\n",
        "print(\"Result:\", get_first_and_last_two(sample_string))"
      ],
      "metadata": {
        "colab": {
          "base_uri": "https://localhost:8080/"
        },
        "id": "zBF2ZR8BZTyq",
        "outputId": "1cb28aab-b08f-4696-f62e-4a736170687f"
      },
      "execution_count": null,
      "outputs": [
        {
          "output_type": "stream",
          "name": "stdout",
          "text": [
            "Result: Nong\n"
          ]
        }
      ]
    },
    {
      "cell_type": "code",
      "source": [
        "def change_first_char_occurrences(string):\n",
        "    first_char = string[0]\n",
        "    return first_char + string[1:].replace(first_char, '$')\n",
        "\n",
        "sample_string = \"nothing\"\n",
        "print(\"Result:\", change_first_char_occurrences(sample_string))"
      ],
      "metadata": {
        "colab": {
          "base_uri": "https://localhost:8080/"
        },
        "id": "VJwDeN5EcgZq",
        "outputId": "16241888-8d8b-4abe-b066-269c1d176fad"
      },
      "execution_count": null,
      "outputs": [
        {
          "output_type": "stream",
          "name": "stdout",
          "text": [
            "Result: nothi$g\n"
          ]
        }
      ]
    },
    {
      "cell_type": "code",
      "source": [
        "def swap_first_two_chars(str1, str2):\n",
        "    return str2[:2] + str1[2:] + \" \" + str1[:2] + str2[2:]\n",
        "\n",
        "string1 = \"abc\"\n",
        "string2 = \"xyz\"\n",
        "print(\"Result:\", swap_first_two_chars(string1, string2))\n"
      ],
      "metadata": {
        "colab": {
          "base_uri": "https://localhost:8080/"
        },
        "id": "Xzk1fNv4e7fP",
        "outputId": "4373f5a0-0177-4d2c-bfac-bc74bf4b9d37"
      },
      "execution_count": null,
      "outputs": [
        {
          "output_type": "stream",
          "name": "stdout",
          "text": [
            "Result: xyc abz\n"
          ]
        }
      ]
    },
    {
      "cell_type": "code",
      "source": [
        "def add_ing_or_ly(string):\n",
        "    if len(string) < 3:\n",
        "        return string\n",
        "    elif string.endswith(\"ing\"):\n",
        "        return string + \"ly\"\n",
        "    else:\n",
        "        return string + \"ing\"\n",
        "\n",
        "sample_string1 = \"abc\"\n",
        "sample_string2 = \"string\"\n",
        "print(\"Result 1:\", add_ing_or_ly(sample_string1))\n",
        "print(\"Result 2:\", add_ing_or_ly(sample_string2))\n"
      ],
      "metadata": {
        "colab": {
          "base_uri": "https://localhost:8080/"
        },
        "id": "TzG_qDSHfFjD",
        "outputId": "c5c3e353-262f-4af1-df40-6d3eb373f769"
      },
      "execution_count": null,
      "outputs": [
        {
          "output_type": "stream",
          "name": "stdout",
          "text": [
            "Result 1: abcing\n",
            "Result 2: stringly\n"
          ]
        }
      ]
    },
    {
      "cell_type": "code",
      "source": [
        "def replace_not_poor(string):\n",
        "    not_index = string.find(\"not\")\n",
        "    poor_index = string.find(\"poor\")\n",
        "    if not_index != -1 and poor_index != -1 and not_index < poor_index:\n",
        "        return string[:not_index] + \"good\" + string[poor_index + 4:]\n",
        "    else:\n",
        "        return string\n",
        "\n",
        "sample_string1 = \"The lyrics is not that poor!\"\n",
        "sample_string2 = \"The lyrics is poor!\"\n",
        "print(\"Result 1:\", replace_not_poor(sample_string1))\n",
        "print(\"Result 2:\", replace_not_poor(sample_string2))\n"
      ],
      "metadata": {
        "colab": {
          "base_uri": "https://localhost:8080/"
        },
        "id": "S4FQr_EZfLPO",
        "outputId": "0afeb637-b914-48bb-f40c-be583e9f32f8"
      },
      "execution_count": null,
      "outputs": [
        {
          "output_type": "stream",
          "name": "stdout",
          "text": [
            "Result 1: The lyrics is good!\n",
            "Result 2: The lyrics is poor!\n"
          ]
        }
      ]
    },
    {
      "cell_type": "code",
      "source": [
        "def longest_word(words):\n",
        "    longest = max(words, key=len)\n",
        "    return longest, len(longest)\n",
        "\n",
        "sample_words = [\"Exercises\", \"are\", \"good\", \"for\", \"health\"]\n",
        "longest, length = longest_word(sample_words)\n",
        "print(\"Longest word:\", longest)\n",
        "print(\"Length of the longest word:\", length)\n"
      ],
      "metadata": {
        "colab": {
          "base_uri": "https://localhost:8080/"
        },
        "id": "kE1-M356fN8o",
        "outputId": "7d366805-c420-49aa-d6ab-2f4f2682bf62"
      },
      "execution_count": null,
      "outputs": [
        {
          "output_type": "stream",
          "name": "stdout",
          "text": [
            "Longest word: Exercises\n",
            "Length of the longest word: 9\n"
          ]
        }
      ]
    },
    {
      "cell_type": "code",
      "source": [
        "def remove_nth_character(string, n):\n",
        "    return string[:n] + string[n+1:]\n",
        "\n",
        "sample_string = \"python\"\n",
        "n = 3\n",
        "print(\"Result:\", remove_nth_character(sample_string, n))\n"
      ],
      "metadata": {
        "colab": {
          "base_uri": "https://localhost:8080/"
        },
        "id": "NQMHVKIPfP_R",
        "outputId": "35655805-15dc-4e4e-94dc-659729c8ad41"
      },
      "execution_count": null,
      "outputs": [
        {
          "output_type": "stream",
          "name": "stdout",
          "text": [
            "Result: pyton\n"
          ]
        }
      ]
    },
    {
      "cell_type": "code",
      "source": [
        "def exchange_first_and_last(string):\n",
        "    if len(string) <= 1:\n",
        "        return string\n",
        "    else:\n",
        "        return string[-1] + string[1:-1] + string[0]\n",
        "\n",
        "sample_string = \"python\"\n",
        "print(\"Result:\", exchange_first_and_last(sample_string))\n"
      ],
      "metadata": {
        "colab": {
          "base_uri": "https://localhost:8080/"
        },
        "id": "83FAV8fBfSri",
        "outputId": "e3cd6dea-ec79-4d44-e5e2-c3f1a74b3f29"
      },
      "execution_count": null,
      "outputs": [
        {
          "output_type": "stream",
          "name": "stdout",
          "text": [
            "Result: nythop\n"
          ]
        }
      ]
    },
    {
      "cell_type": "code",
      "source": [
        "def remove_odd_index_characters(string):\n",
        "    return \"\".join([char for index, char in enumerate(string) if index % 2 == 0])\n",
        "\n",
        "sample_string = \"python\"\n",
        "print(\"Result:\", remove_odd_index_characters(sample_string))\n"
      ],
      "metadata": {
        "colab": {
          "base_uri": "https://localhost:8080/"
        },
        "id": "abWg7FhEfUX-",
        "outputId": "a18cef14-a70f-4b2f-ba60-691692c4197e"
      },
      "execution_count": null,
      "outputs": [
        {
          "output_type": "stream",
          "name": "stdout",
          "text": [
            "Result: pto\n"
          ]
        }
      ]
    },
    {
      "cell_type": "code",
      "source": [
        "def word_frequency(sentence):\n",
        "    words = sentence.split()\n",
        "    freq = {}\n",
        "    for word in words:\n",
        "        freq[word] = freq.get(word, 0) + 1\n",
        "    return freq\n",
        "\n",
        "sample_sentence = \"the quick brown fox jumps over the lazy dog\"\n",
        "print(\"Word frequencies:\", word_frequency(sample_sentence))\n"
      ],
      "metadata": {
        "colab": {
          "base_uri": "https://localhost:8080/"
        },
        "id": "33tb6_kWfV5x",
        "outputId": "117e5df7-4295-489a-93cd-708cd241b813"
      },
      "execution_count": null,
      "outputs": [
        {
          "output_type": "stream",
          "name": "stdout",
          "text": [
            "Word frequencies: {'the': 2, 'quick': 1, 'brown': 1, 'fox': 1, 'jumps': 1, 'over': 1, 'lazy': 1, 'dog': 1}\n"
          ]
        }
      ]
    },
    {
      "cell_type": "code",
      "source": [
        "user_input = input(\"Enter a string: \")\n",
        "print(\"Upper case:\", user_input.upper())\n",
        "print(\"Lower case:\", user_input.lower())"
      ],
      "metadata": {
        "colab": {
          "base_uri": "https://localhost:8080/",
          "height": 228
        },
        "id": "Mc0cuhlVfWIj",
        "outputId": "1776cba6-dde2-4c08-f930-54ff0faa7ca8"
      },
      "execution_count": null,
      "outputs": [
        {
          "output_type": "stream",
          "name": "stdout",
          "text": [
            "Is 'user_input' defined as a variable? False\n"
          ]
        },
        {
          "output_type": "error",
          "ename": "TypeError",
          "evalue": "'str' object is not callable",
          "traceback": [
            "\u001b[0;31m---------------------------------------------------------------------------\u001b[0m",
            "\u001b[0;31mTypeError\u001b[0m                                 Traceback (most recent call last)",
            "\u001b[0;32m<ipython-input-89-6190c8e68e4c>\u001b[0m in \u001b[0;36m<cell line: 5>\u001b[0;34m()\u001b[0m\n\u001b[1;32m      3\u001b[0m \u001b[0;34m\u001b[0m\u001b[0m\n\u001b[1;32m      4\u001b[0m \u001b[0;31m# Pobranie danych od użytkownika\u001b[0m\u001b[0;34m\u001b[0m\u001b[0;34m\u001b[0m\u001b[0m\n\u001b[0;32m----> 5\u001b[0;31m \u001b[0muser_input\u001b[0m \u001b[0;34m=\u001b[0m \u001b[0minput\u001b[0m\u001b[0;34m(\u001b[0m\u001b[0;34m\"Enter a string: \"\u001b[0m\u001b[0;34m)\u001b[0m\u001b[0;34m\u001b[0m\u001b[0;34m\u001b[0m\u001b[0m\n\u001b[0m\u001b[1;32m      6\u001b[0m \u001b[0;34m\u001b[0m\u001b[0m\n\u001b[1;32m      7\u001b[0m \u001b[0;31m# Wypisanie wyników\u001b[0m\u001b[0;34m\u001b[0m\u001b[0;34m\u001b[0m\u001b[0m\n",
            "\u001b[0;31mTypeError\u001b[0m: 'str' object is not callable"
          ]
        }
      ]
    },
    {
      "cell_type": "code",
      "source": [
        "words = input(\"Enter words separated by commas: \").split(\",\")\n",
        "distinct_words = sorted(set(words))\n",
        "print(\"Distinct words:\", \", \".join(distinct_words))\n"
      ],
      "metadata": {
        "colab": {
          "base_uri": "https://localhost:8080/",
          "height": 176
        },
        "id": "pXYdkISSfWP1",
        "outputId": "5065656d-d1f2-47d8-c571-d7293b366e5b"
      },
      "execution_count": null,
      "outputs": [
        {
          "output_type": "error",
          "ename": "TypeError",
          "evalue": "'str' object is not callable",
          "traceback": [
            "\u001b[0;31m---------------------------------------------------------------------------\u001b[0m",
            "\u001b[0;31mTypeError\u001b[0m                                 Traceback (most recent call last)",
            "\u001b[0;32m<ipython-input-75-d372353c6411>\u001b[0m in \u001b[0;36m<cell line: 1>\u001b[0;34m()\u001b[0m\n\u001b[0;32m----> 1\u001b[0;31m \u001b[0mwords\u001b[0m \u001b[0;34m=\u001b[0m \u001b[0minput\u001b[0m\u001b[0;34m(\u001b[0m\u001b[0;34m\"Enter words separated by commas: \"\u001b[0m\u001b[0;34m)\u001b[0m\u001b[0;34m.\u001b[0m\u001b[0msplit\u001b[0m\u001b[0;34m(\u001b[0m\u001b[0;34m\",\"\u001b[0m\u001b[0;34m)\u001b[0m\u001b[0;34m\u001b[0m\u001b[0;34m\u001b[0m\u001b[0m\n\u001b[0m\u001b[1;32m      2\u001b[0m \u001b[0mdistinct_words\u001b[0m \u001b[0;34m=\u001b[0m \u001b[0msorted\u001b[0m\u001b[0;34m(\u001b[0m\u001b[0mset\u001b[0m\u001b[0;34m(\u001b[0m\u001b[0mwords\u001b[0m\u001b[0;34m)\u001b[0m\u001b[0;34m)\u001b[0m\u001b[0;34m\u001b[0m\u001b[0;34m\u001b[0m\u001b[0m\n\u001b[1;32m      3\u001b[0m \u001b[0mprint\u001b[0m\u001b[0;34m(\u001b[0m\u001b[0;34m\"Distinct words:\"\u001b[0m\u001b[0;34m,\u001b[0m \u001b[0;34m\", \"\u001b[0m\u001b[0;34m.\u001b[0m\u001b[0mjoin\u001b[0m\u001b[0;34m(\u001b[0m\u001b[0mdistinct_words\u001b[0m\u001b[0;34m)\u001b[0m\u001b[0;34m)\u001b[0m\u001b[0;34m\u001b[0m\u001b[0;34m\u001b[0m\u001b[0m\n",
            "\u001b[0;31mTypeError\u001b[0m: 'str' object is not callable"
          ]
        }
      ]
    },
    {
      "cell_type": "code",
      "source": [
        "def add_tags(tag, word):\n",
        "    return \"<{}>{}</{}>\".format(tag, word, tag)\n",
        "\n",
        "print(\"Result:\", add_tags(\"i\", \"Python\"))\n",
        "print(\"Result:\", add_tags(\"b\", \"Python Tutorial\"))\n"
      ],
      "metadata": {
        "colab": {
          "base_uri": "https://localhost:8080/"
        },
        "id": "iJcq9KdufWSZ",
        "outputId": "be8e4a71-0cdf-4286-a2b5-aba10c92ad14"
      },
      "execution_count": null,
      "outputs": [
        {
          "output_type": "stream",
          "name": "stdout",
          "text": [
            "Result: <i>Python</i>\n",
            "Result: <b>Python Tutorial</b>\n"
          ]
        }
      ]
    },
    {
      "cell_type": "code",
      "source": [
        "def insert_string_middle(original, insert):\n",
        "    return original[:len(original)//2] + insert + original[len(original)//2:]\n",
        "\n",
        "print(\"Result:\", insert_string_middle(\"[[]]<<>>\", \"Python\"))\n",
        "print(\"Result:\", insert_string_middle(\"{{}}\", \"PHP\"))\n"
      ],
      "metadata": {
        "colab": {
          "base_uri": "https://localhost:8080/"
        },
        "id": "kPVM_n_7fWVC",
        "outputId": "62f3bdd6-af53-4cbe-a0c1-3c83e8936fd2"
      },
      "execution_count": null,
      "outputs": [
        {
          "output_type": "stream",
          "name": "stdout",
          "text": [
            "Result: [[]]Python<<>>\n",
            "Result: {{PHP}}\n"
          ]
        }
      ]
    },
    {
      "cell_type": "code",
      "source": [
        "def insert_end(string):\n",
        "    if len(string) < 2:\n",
        "        return \"String length should be at least 2.\"\n",
        "    else:\n",
        "        return string[-2:] * 4\n",
        "\n",
        "print(\"Result:\", insert_end(\"Python\"))\n",
        "print(\"Result:\", insert_end(\"Exercises\"))\n"
      ],
      "metadata": {
        "colab": {
          "base_uri": "https://localhost:8080/"
        },
        "id": "oUliNfKlfWXg",
        "outputId": "fe0abb65-655d-4984-dd60-627b770f09a7"
      },
      "execution_count": null,
      "outputs": [
        {
          "output_type": "stream",
          "name": "stdout",
          "text": [
            "Result: onononon\n",
            "Result: eseseses\n"
          ]
        }
      ]
    },
    {
      "cell_type": "code",
      "source": [
        "def first_three(string):\n",
        "    return string[:3] if len(string) >= 3 else string\n",
        "\n",
        "print(\"Result:\", first_three(\"ipy\"))\n",
        "print(\"Result:\", first_three(\"python\"))\n"
      ],
      "metadata": {
        "colab": {
          "base_uri": "https://localhost:8080/"
        },
        "id": "gEgyzflJfWZ7",
        "outputId": "ee193d67-79b5-4513-cfcb-1010b942e23a"
      },
      "execution_count": null,
      "outputs": [
        {
          "output_type": "stream",
          "name": "stdout",
          "text": [
            "Result: ipy\n",
            "Result: pyt\n"
          ]
        }
      ]
    },
    {
      "cell_type": "code",
      "source": [
        "string = 'https://www.w3resource.com/python-exercises/string'\n",
        "print(string.rsplit('/', 1)[0])\n",
        "print(string.rsplit('-', 1)[0])"
      ],
      "metadata": {
        "colab": {
          "base_uri": "https://localhost:8080/"
        },
        "id": "z0qtoNjKfWcE",
        "outputId": "ba9a0e3e-f3b0-4b26-e71a-1289d372c834"
      },
      "execution_count": null,
      "outputs": [
        {
          "output_type": "stream",
          "name": "stdout",
          "text": [
            "https://www.w3resource.com/python-exercises\n",
            "https://www.w3resource.com/python\n"
          ]
        }
      ]
    },
    {
      "cell_type": "code",
      "source": [
        "def reverse_string(string):\n",
        "    return string[::-1] if len(string) % 4 == 0 else string\n",
        "\n",
        "sample_string = \"abcd\"\n",
        "print(\"Result:\", reverse_string(sample_string))\n"
      ],
      "metadata": {
        "colab": {
          "base_uri": "https://localhost:8080/"
        },
        "id": "EF09_okhfa9w",
        "outputId": "c39c98c9-23b6-4875-bf5f-9bcadd9630f0"
      },
      "execution_count": null,
      "outputs": [
        {
          "output_type": "stream",
          "name": "stdout",
          "text": [
            "Result: dcba\n"
          ]
        }
      ]
    }
  ]
}