{
  "nbformat": 4,
  "nbformat_minor": 0,
  "metadata": {
    "colab": {
      "provenance": [],
      "authorship_tag": "ABX9TyNe9d9HkQ/f4CE4c/9E0KFM",
      "include_colab_link": true
    },
    "kernelspec": {
      "name": "python3",
      "display_name": "Python 3"
    },
    "language_info": {
      "name": "python"
    }
  },
  "cells": [
    {
      "cell_type": "markdown",
      "metadata": {
        "id": "view-in-github",
        "colab_type": "text"
      },
      "source": [
        "<a href=\"https://colab.research.google.com/github/JezSeb/Programowanie/blob/main/Zadania_21-40.ipynb\" target=\"_parent\"><img src=\"https://colab.research.google.com/assets/colab-badge.svg\" alt=\"Open In Colab\"/></a>"
      ]
    },
    {
      "cell_type": "code",
      "execution_count": 10,
      "metadata": {
        "colab": {
          "base_uri": "https://localhost:8080/"
        },
        "id": "8Pkah5b2dCp-",
        "outputId": "75790412-327e-4b60-bdfe-8a1e2c38bee9"
      },
      "outputs": [
        {
          "output_type": "stream",
          "name": "stdout",
          "text": [
            "7\n"
          ]
        }
      ],
      "source": [
        "def sum(items):\n",
        "  sum=0\n",
        "  for x in items:\n",
        "    sum+=x\n",
        "\n",
        "  return sum\n",
        "\n",
        "\n",
        "print(sum([1,2,5,1,-2]))"
      ]
    },
    {
      "cell_type": "code",
      "source": [
        "def multiply(items):\n",
        "  multi=1\n",
        "  for x in items:\n",
        "    multi*=x\n",
        "\n",
        "  return multi\n",
        "\n",
        "print(multiply([2,3,1,5]))"
      ],
      "metadata": {
        "colab": {
          "base_uri": "https://localhost:8080/"
        },
        "id": "e0hU4ilLeKsa",
        "outputId": "f380ae79-a193-418e-9be6-e7332e13e36e"
      },
      "execution_count": 20,
      "outputs": [
        {
          "output_type": "stream",
          "name": "stdout",
          "text": [
            "30\n"
          ]
        }
      ]
    },
    {
      "cell_type": "code",
      "source": [
        "def maxi(items):\n",
        "  max=items[0]\n",
        "  for x in items:\n",
        "    if x>max:\n",
        "      max=x\n",
        "\n",
        "  return max\n",
        "\n",
        "print(maxi([1,5,2,3,8,11,0]))"
      ],
      "metadata": {
        "colab": {
          "base_uri": "https://localhost:8080/"
        },
        "id": "gIUhisGyeLqo",
        "outputId": "a2972e97-0db6-41f8-9760-2a249431fdcb"
      },
      "execution_count": 29,
      "outputs": [
        {
          "output_type": "stream",
          "name": "stdout",
          "text": [
            "11\n"
          ]
        }
      ]
    },
    {
      "cell_type": "code",
      "source": [
        "def mini(items):\n",
        "  min=items[0]\n",
        "  for x in items:\n",
        "    if x<min:\n",
        "      min=x\n",
        "\n",
        "  return min\n",
        "\n",
        "print(mini([1,5,2,-2,8,11,2]))"
      ],
      "metadata": {
        "colab": {
          "base_uri": "https://localhost:8080/"
        },
        "id": "sjLd9YzMeLtw",
        "outputId": "58aa25b3-a2ca-4bb9-a712-c52043ad6457"
      },
      "execution_count": 32,
      "outputs": [
        {
          "output_type": "stream",
          "name": "stdout",
          "text": [
            "-2\n"
          ]
        }
      ]
    },
    {
      "cell_type": "code",
      "source": [
        "def many(items):\n",
        "  x=0\n",
        "\n",
        "  for word in items:\n",
        "    if len(word) > 1 and word[0] == word[-1]:\n",
        "      x+=1\n",
        "\n",
        "  return x\n",
        "print(many(['1231','abcd','xyzx','22001']))"
      ],
      "metadata": {
        "colab": {
          "base_uri": "https://localhost:8080/"
        },
        "id": "Rsaj1mxReLxO",
        "outputId": "42dee24b-20e1-42af-9974-35a88eaef95b"
      },
      "execution_count": 40,
      "outputs": [
        {
          "output_type": "stream",
          "name": "stdout",
          "text": [
            "2\n"
          ]
        }
      ]
    },
    {
      "cell_type": "code",
      "source": [
        "def list(tuples):\n",
        "    sorted_tuples = sorted(tuples, key=lambda x: x[-1])\n",
        "    return sorted_tuples\n",
        "\n",
        "\n",
        "tuples_list = [(1, 3), (3, 2), (2, 1), (5,0), (8,4)]\n",
        "sorted_list = list(tuples_list)\n",
        "print(sorted_list)"
      ],
      "metadata": {
        "colab": {
          "base_uri": "https://localhost:8080/"
        },
        "id": "3NuKvAzYeL0i",
        "outputId": "ebcdea85-319c-46d0-d442-b9649e0c6a67"
      },
      "execution_count": 49,
      "outputs": [
        {
          "output_type": "stream",
          "name": "stdout",
          "text": [
            "[(5, 0), (2, 1), (3, 2), (1, 3), (8, 4)]\n"
          ]
        }
      ]
    },
    {
      "cell_type": "code",
      "source": [
        "def remove(input_list):\n",
        "    unique_items = []\n",
        "\n",
        "    for item in input_list:\n",
        "\n",
        "        if item not in unique_items:\n",
        "            unique_items.append(item)\n",
        "\n",
        "    return unique_items\n",
        "\n",
        "my_list = [1, 2, 2, 4, 3, 4, 4, 5]\n",
        "unique_list = remove(my_list)\n",
        "print(unique_list)\n"
      ],
      "metadata": {
        "colab": {
          "base_uri": "https://localhost:8080/"
        },
        "id": "DQJOANzneL3u",
        "outputId": "0c62057b-33cc-4d97-836c-935c0b9c2871"
      },
      "execution_count": 54,
      "outputs": [
        {
          "output_type": "stream",
          "name": "stdout",
          "text": [
            "[1, 2, 4, 3, 5]\n"
          ]
        }
      ]
    },
    {
      "cell_type": "code",
      "source": [
        "list = [1,2,3]\n",
        "\n",
        "if not list:\n",
        "  print(\"List is empty\")\n",
        "else:\n",
        "  print(\"List is not empty\")"
      ],
      "metadata": {
        "colab": {
          "base_uri": "https://localhost:8080/"
        },
        "id": "5gkgitqpeL71",
        "outputId": "dca8a463-fba2-40a2-e630-29f8adcdc11d"
      },
      "execution_count": 59,
      "outputs": [
        {
          "output_type": "stream",
          "name": "stdout",
          "text": [
            "List is not empty\n"
          ]
        }
      ]
    },
    {
      "cell_type": "code",
      "source": [
        "list = [1,2,3,4]\n",
        "clone_list = list\n",
        "print (list)\n",
        "print (clone_list)"
      ],
      "metadata": {
        "colab": {
          "base_uri": "https://localhost:8080/"
        },
        "id": "4NqBT-qVeL_x",
        "outputId": "f517fefc-bbb3-47f4-984a-df2df52604a7"
      },
      "execution_count": 61,
      "outputs": [
        {
          "output_type": "stream",
          "name": "stdout",
          "text": [
            "[1, 2, 3, 4]\n",
            "[1, 2, 3, 4]\n"
          ]
        }
      ]
    },
    {
      "cell_type": "code",
      "source": [
        "def check(sentence, n):\n",
        "    words = sentence.split()\n",
        "    long_words = [word for word in words if len(word) > n]\n",
        "    return long_words\n",
        "\n",
        "sentence = \"I'm doing it to find long words\"\n",
        "n = 4\n",
        "long_words = check(sentence, n)\n",
        "print(long_words)\n"
      ],
      "metadata": {
        "colab": {
          "base_uri": "https://localhost:8080/"
        },
        "id": "KRtki4AReMD3",
        "outputId": "206502fe-8abf-40a3-e530-c86b248c9dd3"
      },
      "execution_count": 69,
      "outputs": [
        {
          "output_type": "stream",
          "name": "stdout",
          "text": [
            "['doing', 'words']\n"
          ]
        }
      ]
    },
    {
      "cell_type": "code",
      "source": [
        "def member(list1, list2):\n",
        "    for item in list1:\n",
        "        if item in list2:\n",
        "            return True\n",
        "    return False\n",
        "\n",
        "\n",
        "list1 = [1, 2, 3, 4, 5]\n",
        "list2 = [6, 7, 8, 9, 10]\n",
        "list3 = [2, 4, 8, 5, 6]\n",
        "\n",
        "print(member(list1, list2))\n",
        "print(member(list2, list3))"
      ],
      "metadata": {
        "colab": {
          "base_uri": "https://localhost:8080/"
        },
        "id": "CDRfvBiZeMHn",
        "outputId": "ba215692-a450-40a0-985d-ce6e7374cc95"
      },
      "execution_count": 72,
      "outputs": [
        {
          "output_type": "stream",
          "name": "stdout",
          "text": [
            "False\n",
            "True\n"
          ]
        }
      ]
    },
    {
      "cell_type": "code",
      "source": [
        "def remove(input_list):\n",
        "    # Remove elements at 0th, 4th, and 5th indices\n",
        "    indices_to_remove = [0, 4, 5]\n",
        "    filtered_list = [element for index, element in enumerate(input_list) if index not in indices_to_remove]\n",
        "    return filtered_list\n",
        "\n",
        "list = ['Red', 'Green', 'White', 'Black', 'Pink', 'Yellow']\n",
        "print(remove(list))\n"
      ],
      "metadata": {
        "colab": {
          "base_uri": "https://localhost:8080/"
        },
        "id": "oALGQEDteML7",
        "outputId": "1f38c0ef-0e5d-4db9-d292-174794fc34cc"
      },
      "execution_count": 74,
      "outputs": [
        {
          "output_type": "stream",
          "name": "stdout",
          "text": [
            "['Green', 'White', 'Black']\n"
          ]
        }
      ]
    },
    {
      "cell_type": "code",
      "source": [
        "array = [[['*' for col in range(6)] for col in range(4)] for row in range(3)]\n",
        "print(array)"
      ],
      "metadata": {
        "colab": {
          "base_uri": "https://localhost:8080/"
        },
        "id": "gxMSbGfyeMP3",
        "outputId": "5cbe8004-9cda-4862-dcba-24ef2b86a1af"
      },
      "execution_count": 79,
      "outputs": [
        {
          "output_type": "stream",
          "name": "stdout",
          "text": [
            "[[['*', '*', '*', '*', '*', '*'], ['*', '*', '*', '*', '*', '*'], ['*', '*', '*', '*', '*', '*'], ['*', '*', '*', '*', '*', '*']], [['*', '*', '*', '*', '*', '*'], ['*', '*', '*', '*', '*', '*'], ['*', '*', '*', '*', '*', '*'], ['*', '*', '*', '*', '*', '*']], [['*', '*', '*', '*', '*', '*'], ['*', '*', '*', '*', '*', '*'], ['*', '*', '*', '*', '*', '*'], ['*', '*', '*', '*', '*', '*']]]\n"
          ]
        }
      ]
    },
    {
      "cell_type": "code",
      "source": [
        "def remove_even_numbers(input_list):\n",
        "    odd_numbers = [num for num in input_list if num % 2 != 0]\n",
        "    return odd_numbers\n",
        "\n",
        "\n",
        "numbers_list = [7, 8, 120, 25, 44, 20, 27]\n",
        "\n",
        "print(remove_even_numbers(numbers_list))\n"
      ],
      "metadata": {
        "colab": {
          "base_uri": "https://localhost:8080/"
        },
        "id": "xZvih0p1eMTt",
        "outputId": "dd846048-3266-4bfb-a163-abaeccb22056"
      },
      "execution_count": 81,
      "outputs": [
        {
          "output_type": "stream",
          "name": "stdout",
          "text": [
            "[7, 25, 27]\n"
          ]
        }
      ]
    },
    {
      "cell_type": "code",
      "source": [
        "import random\n",
        "\n",
        "def shuffle_list(input_list):\n",
        "    shuffled_list = input_list.copy()\n",
        "    random.shuffle(shuffled_list)\n",
        "    return shuffled_list\n",
        "\n",
        "\n",
        "original_list = ['a', 'b', 'c', 'd', 'e']\n",
        "\n",
        "print(shuffle_list(original_list))\n"
      ],
      "metadata": {
        "colab": {
          "base_uri": "https://localhost:8080/"
        },
        "id": "-LjTPPMreMXQ",
        "outputId": "c61dcf1a-a512-4391-bde2-1bf0adbfbc8a"
      },
      "execution_count": 83,
      "outputs": [
        {
          "output_type": "stream",
          "name": "stdout",
          "text": [
            "['d', 'e', 'b', 'a', 'c']\n"
          ]
        }
      ]
    },
    {
      "cell_type": "code",
      "source": [
        "def generate():\n",
        "    square_numbers = [x ** 2 for x in range(1, 31) if x ** 2 <= 30]\n",
        "    return square_numbers\n",
        "\n",
        "print(generate())\n"
      ],
      "metadata": {
        "colab": {
          "base_uri": "https://localhost:8080/"
        },
        "id": "ucKCDH8BeMb1",
        "outputId": "5900491d-5e28-436e-f1be-a4d5d5e55f2c"
      },
      "execution_count": 87,
      "outputs": [
        {
          "output_type": "stream",
          "name": "stdout",
          "text": [
            "[1, 4, 9, 16, 25]\n"
          ]
        }
      ]
    },
    {
      "cell_type": "code",
      "source": [
        "def is_prime(num):\n",
        "    if num <= 1:\n",
        "        return False\n",
        "    for i in range(2, int(num ** 0.5) + 1):\n",
        "        if num % i == 0:\n",
        "            return False\n",
        "    return True\n",
        "\n",
        "def all_prime(numbers):\n",
        "    return all(is_prime(num) for num in numbers)\n",
        "\n",
        "\n",
        "list1 = [0, 3, 4, 7, 9]\n",
        "list2 = [3, 5, 7, 13]\n",
        "list3 = [1, 5, 3]\n",
        "print(all_prime(list1))\n",
        "print(all_prime(list2))\n",
        "print(all_prime(list3))\n"
      ],
      "metadata": {
        "colab": {
          "base_uri": "https://localhost:8080/"
        },
        "id": "nNEGgeh0eMfm",
        "outputId": "7d42c18e-f889-4f5d-8901-ca71a2e6877b"
      },
      "execution_count": 89,
      "outputs": [
        {
          "output_type": "stream",
          "name": "stdout",
          "text": [
            "False\n",
            "True\n",
            "False\n"
          ]
        }
      ]
    },
    {
      "cell_type": "code",
      "source": [
        "import itertools\n",
        "print(list(itertools.permutations([1, 2, 3])))"
      ],
      "metadata": {
        "colab": {
          "base_uri": "https://localhost:8080/",
          "height": 159
        },
        "id": "gKL0FizbeMjX",
        "outputId": "45f1aac1-e354-41f4-c894-17b352588a50"
      },
      "execution_count": 100,
      "outputs": [
        {
          "output_type": "error",
          "ename": "TypeError",
          "evalue": "'list' object is not callable",
          "traceback": [
            "\u001b[0;31m---------------------------------------------------------------------------\u001b[0m",
            "\u001b[0;31mTypeError\u001b[0m                                 Traceback (most recent call last)",
            "\u001b[0;32m<ipython-input-100-4f4406beaf49>\u001b[0m in \u001b[0;36m<cell line: 2>\u001b[0;34m()\u001b[0m\n\u001b[1;32m      1\u001b[0m \u001b[0;32mimport\u001b[0m \u001b[0mitertools\u001b[0m\u001b[0;34m\u001b[0m\u001b[0;34m\u001b[0m\u001b[0m\n\u001b[0;32m----> 2\u001b[0;31m \u001b[0mprint\u001b[0m\u001b[0;34m(\u001b[0m\u001b[0mlist\u001b[0m\u001b[0;34m(\u001b[0m\u001b[0mitertools\u001b[0m\u001b[0;34m.\u001b[0m\u001b[0mpermutations\u001b[0m\u001b[0;34m(\u001b[0m\u001b[0;34m[\u001b[0m\u001b[0;36m1\u001b[0m\u001b[0;34m,\u001b[0m \u001b[0;36m2\u001b[0m\u001b[0;34m,\u001b[0m \u001b[0;36m3\u001b[0m\u001b[0;34m]\u001b[0m\u001b[0;34m)\u001b[0m\u001b[0;34m)\u001b[0m\u001b[0;34m)\u001b[0m\u001b[0;34m\u001b[0m\u001b[0;34m\u001b[0m\u001b[0m\n\u001b[0m",
            "\u001b[0;31mTypeError\u001b[0m: 'list' object is not callable"
          ]
        }
      ]
    },
    {
      "cell_type": "code",
      "source": [
        "def calculate(list1, list2):\n",
        "    set1 = set(list1)\n",
        "    set2 = set(list2)\n",
        "\n",
        "    difference1 = list(set1 - set2)\n",
        "    difference2 = list(set2 - set1)\n",
        "\n",
        "    return difference1, difference2\n",
        "\n",
        
        "list1 = [1, 2, 3, 4, 5]\n",
        "list2 = [4, 5, 6, 7, 8]\n",
        "difference1, difference2 = calculate(list1, list2)\n",
        "print(difference1,difference2)\n",
        "\n"
      ],
      "metadata": {
        "colab": {
          "base_uri": "https://localhost:8080/",
          "height": 332
        },
        "id": "jlB5F-f1eMnV",
        "outputId": "919303e8-3939-4075-a19f-4006d88435f5"
      },
      "execution_count": 104,
      "outputs": [
        {
          "output_type": "error",
          "ename": "TypeError",
          "evalue": "'list' object is not callable",
          "traceback": [
            "\u001b[0;31m---------------------------------------------------------------------------\u001b[0m",
            "\u001b[0;31mTypeError\u001b[0m                                 Traceback (most recent call last)",
            "\u001b[0;32m<ipython-input-104-b7d48bff78ba>\u001b[0m in \u001b[0;36m<cell line: 13>\u001b[0;34m()\u001b[0m\n\u001b[1;32m     11\u001b[0m \u001b[0mlist1\u001b[0m \u001b[0;34m=\u001b[0m \u001b[0;34m[\u001b[0m\u001b[0;36m1\u001b[0m\u001b[0;34m,\u001b[0m \u001b[0;36m2\u001b[0m\u001b[0;34m,\u001b[0m \u001b[0;36m3\u001b[0m\u001b[0;34m,\u001b[0m \u001b[0;36m4\u001b[0m\u001b[0;34m,\u001b[0m \u001b[0;36m5\u001b[0m\u001b[0;34m]\u001b[0m\u001b[0;34m\u001b[0m\u001b[0;34m\u001b[0m\u001b[0m\n\u001b[1;32m     12\u001b[0m \u001b[0mlist2\u001b[0m \u001b[0;34m=\u001b[0m \u001b[0;34m[\u001b[0m\u001b[0;36m4\u001b[0m\u001b[0;34m,\u001b[0m \u001b[0;36m5\u001b[0m\u001b[0;34m,\u001b[0m \u001b[0;36m6\u001b[0m\u001b[0;34m,\u001b[0m \u001b[0;36m7\u001b[0m\u001b[0;34m,\u001b[0m \u001b[0;36m8\u001b[0m\u001b[0;34m]\u001b[0m\u001b[0;34m\u001b[0m\u001b[0;34m\u001b[0m\u001b[0m\n\u001b[0;32m---> 13\u001b[0;31m \u001b[0mdifference1\u001b[0m\u001b[0;34m,\u001b[0m \u001b[0mdifference2\u001b[0m \u001b[0;34m=\u001b[0m \u001b[0mcalculate\u001b[0m\u001b[0;34m(\u001b[0m\u001b[0mlist1\u001b[0m\u001b[0;34m,\u001b[0m \u001b[0mlist2\u001b[0m\u001b[0;34m)\u001b[0m\u001b[0;34m\u001b[0m\u001b[0;34m\u001b[0m\u001b[0m\n\u001b[0m\u001b[1;32m     14\u001b[0m \u001b[0mprint\u001b[0m\u001b[0;34m(\u001b[0m\u001b[0mdifference1\u001b[0m\u001b[0;34m,\u001b[0m\u001b[0mdifference2\u001b[0m\u001b[0;34m)\u001b[0m\u001b[0;34m\u001b[0m\u001b[0;34m\u001b[0m\u001b[0m\n\u001b[1;32m     15\u001b[0m \u001b[0;34m\u001b[0m\u001b[0m\n",
            "\u001b[0;32m<ipython-input-104-b7d48bff78ba>\u001b[0m in \u001b[0;36mcalculate\u001b[0;34m(list1, list2)\u001b[0m\n\u001b[1;32m      3\u001b[0m     \u001b[0mset2\u001b[0m \u001b[0;34m=\u001b[0m \u001b[0mset\u001b[0m\u001b[0;34m(\u001b[0m\u001b[0mlist2\u001b[0m\u001b[0;34m)\u001b[0m\u001b[0;34m\u001b[0m\u001b[0;34m\u001b[0m\u001b[0m\n\u001b[1;32m      4\u001b[0m \u001b[0;34m\u001b[0m\u001b[0m\n\u001b[0;32m----> 5\u001b[0;31m     \u001b[0mdifference1\u001b[0m \u001b[0;34m=\u001b[0m \u001b[0mlist\u001b[0m\u001b[0;34m(\u001b[0m\u001b[0mset1\u001b[0m \u001b[0;34m-\u001b[0m \u001b[0mset2\u001b[0m\u001b[0;34m)\u001b[0m\u001b[0;34m\u001b[0m\u001b[0;34m\u001b[0m\u001b[0m\n\u001b[0m\u001b[1;32m      6\u001b[0m     \u001b[0mdifference2\u001b[0m \u001b[0;34m=\u001b[0m \u001b[0mlist\u001b[0m\u001b[0;34m(\u001b[0m\u001b[0mset2\u001b[0m \u001b[0;34m-\u001b[0m \u001b[0mset1\u001b[0m\u001b[0;34m)\u001b[0m\u001b[0;34m\u001b[0m\u001b[0;34m\u001b[0m\u001b[0m\n\u001b[1;32m      7\u001b[0m \u001b[0;34m\u001b[0m\u001b[0m\n",
            "\u001b[0;31mTypeError\u001b[0m: 'list' object is not callable"
          ]
        }
      ]
    },
    {
      "cell_type": "code",
      "source": [
        "def index(input_list):\n",
        "    for i, item in enumerate(input_list):\n",
        "        print(\"Index:\", i, \"Item:\", item)\n",
        "\n",
        "list = ['2', '4', 'orange', '1']\n",
        "index(list)\n"
      ],
      "metadata": {
        "colab": {
          "base_uri": "https://localhost:8080/"
        },
        "id": "EJWcUz1CeMra",
        "outputId": "02d591cc-be0e-4e3b-c930-6c0aa6f7928c"
      },
      "execution_count": 109,
      "outputs": [
        {
          "output_type": "stream",
          "name": "stdout",
          "text": [
            "Index: 0 Item: 2\n",
            "Index: 1 Item: 4\n",
            "Index: 2 Item: orange\n",
            "Index: 3 Item: 1\n"
          ]
        }
      ]
    }
  ]
}
