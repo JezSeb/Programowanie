{
  "nbformat": 4,
  "nbformat_minor": 0,
  "metadata": {
    "colab": {
      "provenance": [],
      "authorship_tag": "ABX9TyNwvpOhssXYMLjw4Ah1djC1",
      "include_colab_link": true
    },
    "kernelspec": {
      "name": "python3",
      "display_name": "Python 3"
    },
    "language_info": {
      "name": "python"
    }
  },
  "cells": [
    {
      "cell_type": "markdown",
      "metadata": {
        "id": "view-in-github",
        "colab_type": "text"
      },
      "source": [
        "<a href=\"https://colab.research.google.com/github/JezSeb/Programowanie/blob/main/Projekt_ko%C5%84cowy.ipynb\" target=\"_parent\"><img src=\"https://colab.research.google.com/assets/colab-badge.svg\" alt=\"Open In Colab\"/></a>"
      ]
    },
    {
      "cell_type": "code",
      "execution_count": 11,
      "metadata": {
        "id": "Gs15ZsXjS11v",
        "outputId": "f32f7cd1-4a96-48f9-872a-34afd031eb5f",
        "colab": {
          "base_uri": "https://localhost:8080/"
        }
      },
      "outputs": [
        {
          "output_type": "stream",
          "name": "stdout",
          "text": [
            "Witaj w grze 'Wisielec'!\n",
            "Zgadnij słowo z kategorii: Sporty\n",
            "Masz 6 prób.\n",
            "\n",
            " _  _  _  _  _  _  _  _ \n",
            "Podaj literę lub całe słowo: a\n",
            "Dobrze!\n",
            "\n",
            " _  _  _  _ a _  _  _ \n",
            "Podaj literę lub całe słowo: p\n",
            "Dobrze!\n",
            "\n",
            "p _  _  _ a _  _  _ \n",
            "Podaj literę lub całe słowo: n\n",
            "Dobrze!\n",
            "\n",
            "p _  _  _ an _  _ \n",
            "Podaj literę lub całe słowo:  \n",
            "Źle! Pozostało prób: 5\n",
            "\n",
            "p _  _  _ an _  _ \n",
            "Podaj literę lub całe słowo: k\n",
            "Źle! Pozostało prób: 4\n",
            "\n",
            "p _  _  _ an _  _ \n",
            "Podaj literę lub całe słowo: i\n",
            "Dobrze!\n",
            "\n",
            "p _  _  _ ani _ \n",
            "Podaj literę lub całe słowo: e\n",
            "Dobrze!\n",
            "\n",
            "p _  _  _ anie\n",
            "Podaj literę lub całe słowo: pływanie\n",
            "Gratulacje! Odgadłeś słowo: pływanie\n"
          ]
        }
      ],
      "source": [
        "import random\n",
        "\n",
        "def choose_word():\n",
        "\n",
        "    words = {\n",
        "        \"zwierzęta\": [\"lew\", \"słoń\", \"tygrys\", \"żyrafa\", \"kangur\", \"wieloryb\"],\n",
        "        \"owoce\": [\"jabłko\", \"banan\", \"pomarańcza\", \"truskawka\", \"arbuz\", \"kiwi\"],\n",
        "        \"kraje\": [\"polska\", \"niemcy\", \"francja\", \"włochy\", \"hiszpania\", \"norwegia\"],\n",
        "        \"programowanie\": [\"python\", \"java\", \"javascript\", \"html\", \"css\", \"sql\"],\n",
        "        \"sporty\": [\"piłka nożna\", \"koszykówka\", \"siatkówka\", \"tenis\", \"bieganie\", \"pływanie\"]\n",
        "    }\n",
        "\n",
        "    category = random.choice(list(words.keys()))\n",
        "\n",
        "    word = random.choice(words[category])\n",
        "\n",
        "    return category, word\n",
        "\n",
        "def display_word(word, guessed_letters):\n",
        "    display = \"\".join([letter if letter in guessed_letters else \" _ \" for letter in word])\n",
        "    return display\n",
        "\n",
        "def hangman():\n",
        "    category, word = choose_word()\n",
        "    guessed_letters = set()\n",
        "    wrong_attempts = 0\n",
        "    max_attempts = 6\n",
        "\n",
        "    print(\"Witaj w grze 'Wisielec'!\")\n",
        "    print(\"Zgadnij słowo z kategorii: {}\".format(category.capitalize()))\n",
        "    print(\"Masz {} prób.\".format(max_attempts))\n",
        "\n",
        "    while wrong_attempts < max_attempts:\n",
        "        print(\"\\n\" + display_word(word, guessed_letters))\n",
        "        guess = input(\"Podaj literę lub całe słowo: \").lower()\n",
        "\n",
        "        if len(guess) == 1:\n",
        "            if guess in guessed_letters:\n",
        "                print(\"Już odgadłeś tę literę. Spróbuj ponownie.\")\n",
        "            elif guess in word:\n",
        "                guessed_letters.add(guess)\n",
        "                print(\"Dobrze!\")\n",
        "            else:\n",
        "                wrong_attempts += 1\n",
        "                print(\"Źle! Pozostało prób: {}\".format(max_attempts - wrong_attempts))\n",
        "        elif len(guess) > 1:\n",
        "            if guess == word:\n",
        "                guessed_letters = set(word)\n",
        "                print(\"Gratulacje! Odgadłeś słowo: {}\".format(word))\n",
        "                break\n",
        "            else:\n",
        "                wrong_attempts += 1\n",
        "                print(\"Źle! Pozostało prób: {}\".format(max_attempts - wrong_attempts))\n",
        "\n",
        "        if set(word) == guessed_letters:\n",
        "            print(\"\\nGratulacje! Odgadłeś słowo: {}\".format(word))\n",
        "            break\n",
        "    else:\n",
        "        print(\"\\nPrzegrałeś! Słowo to: {}\".format(word))\n",
        "\n",
        "if __name__ == \"__main__\":\n",
        "    hangman()\n"
      ]
    }
  ]
}